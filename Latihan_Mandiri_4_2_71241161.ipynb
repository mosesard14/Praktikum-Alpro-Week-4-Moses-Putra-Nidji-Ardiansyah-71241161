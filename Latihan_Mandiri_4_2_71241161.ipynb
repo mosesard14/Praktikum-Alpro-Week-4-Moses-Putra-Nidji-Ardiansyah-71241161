{
  "nbformat": 4,
  "nbformat_minor": 0,
  "metadata": {
    "colab": {
      "provenance": [],
      "authorship_tag": "ABX9TyNFMp0skTecap5P7+eZWlQF",
      "include_colab_link": true
    },
    "kernelspec": {
      "name": "python3",
      "display_name": "Python 3"
    },
    "language_info": {
      "name": "python"
    }
  },
  "cells": [
    {
      "cell_type": "markdown",
      "metadata": {
        "id": "view-in-github",
        "colab_type": "text"
      },
      "source": [
        "<a href=\"https://colab.research.google.com/github/mosesard14/Praktikum-Alpro-Week-4-Moses-Putra-Nidji-Ardiansyah-71241161/blob/main/Latihan_Mandiri_4_2_71241161.ipynb\" target=\"_parent\"><img src=\"https://colab.research.google.com/assets/colab-badge.svg\" alt=\"Open In Colab\"/></a>"
      ]
    },
    {
      "cell_type": "code",
      "execution_count": null,
      "metadata": {
        "id": "RNlU8rWvn6pL",
        "colab": {
          "base_uri": "https://localhost:8080/"
        },
        "outputId": "d3385df6-d01f-4a0d-dc81-b84f6fd827a3"
      },
      "outputs": [
        {
          "output_type": "stream",
          "name": "stdout",
          "text": [
            "Masukkan suatu bilangan: -798\n",
            "Negatif\n"
          ]
        }
      ],
      "source": [
        "bilangan = int(input(\"Masukkan suatu bilangan: \"))\n",
        "print(\"Positif\" if bilangan > 0 else \"Negatif\" if bilangan < 0 else \"Nol\")"
      ]
    }
  ]
}