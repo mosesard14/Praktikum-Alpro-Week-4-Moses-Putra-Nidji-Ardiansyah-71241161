{
  "nbformat": 4,
  "nbformat_minor": 0,
  "metadata": {
    "colab": {
      "provenance": [],
      "authorship_tag": "ABX9TyNShF71xNRDlVhI7e1Pg9u7",
      "include_colab_link": true
    },
    "kernelspec": {
      "name": "python3",
      "display_name": "Python 3"
    },
    "language_info": {
      "name": "python"
    }
  },
  "cells": [
    {
      "cell_type": "markdown",
      "metadata": {
        "id": "view-in-github",
        "colab_type": "text"
      },
      "source": [
        "<a href=\"https://colab.research.google.com/github/mosesard14/Praktikum-Alpro-Week-4-Moses-Putra-Nidji-Ardiansyah-71241161/blob/main/Latihan_Mandiri_4_3_71241161.ipynb\" target=\"_parent\"><img src=\"https://colab.research.google.com/assets/colab-badge.svg\" alt=\"Open In Colab\"/></a>"
      ]
    },
    {
      "cell_type": "code",
      "execution_count": null,
      "metadata": {
        "colab": {
          "base_uri": "https://localhost:8080/"
        },
        "id": "HdHdhVUjocYM",
        "outputId": "e5e6d99b-9e54-4c60-931a-05a9e3bac570"
      },
      "outputs": [
        {
          "output_type": "stream",
          "name": "stdout",
          "text": [
            "Masukkan angka bulan: sdfg\n",
            "Anda tidak memasukkan angka\n"
          ]
        }
      ],
      "source": [
        "try:\n",
        "  bulan = int(input(\"Masukkan angka bulan: \"))\n",
        "  jumlah_hari = { 1: 31, 2: 29, 3: 31, 4: 30, 5: 31, 6: 30, 7: 31, 8: 31, 9: 30, 10: 31, 11: 30, 12: 31}\n",
        "\n",
        "  if 1 <= bulan <= 12:\n",
        "    print(\"Jumlah hari adalah\", jumlah_hari[bulan])\n",
        "  else:\n",
        "    print(\"Bulan tidak valid\")\n",
        "except:\n",
        "  print(\"Anda tidak memasukkan angka\")"
      ]
    }
  ]
}