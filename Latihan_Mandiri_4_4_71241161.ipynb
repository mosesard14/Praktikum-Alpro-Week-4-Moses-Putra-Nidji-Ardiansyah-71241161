{
  "nbformat": 4,
  "nbformat_minor": 0,
  "metadata": {
    "colab": {
      "provenance": [],
      "authorship_tag": "ABX9TyPKL3C59rQkQGwB8csOGjGT",
      "include_colab_link": true
    },
    "kernelspec": {
      "name": "python3",
      "display_name": "Python 3"
    },
    "language_info": {
      "name": "python"
    }
  },
  "cells": [
    {
      "cell_type": "markdown",
      "metadata": {
        "id": "view-in-github",
        "colab_type": "text"
      },
      "source": [
        "<a href=\"https://colab.research.google.com/github/mosesard14/Praktikum-Alpro-Week-4-Moses-Putra-Nidji-Ardiansyah-71241161/blob/main/Latihan_Mandiri_4_4_71241161.ipynb\" target=\"_parent\"><img src=\"https://colab.research.google.com/assets/colab-badge.svg\" alt=\"Open In Colab\"/></a>"
      ]
    },
    {
      "cell_type": "code",
      "execution_count": null,
      "metadata": {
        "id": "hQ0b_r_Woa7D"
      },
      "outputs": [],
      "source": [
        "try:\n",
        "  sisi_1 = int(input(\"Masukkan sisi 1: \"))\n",
        "  sisi_2 = int(input(\"Masukkan sisi 2: \"))\n",
        "  sisi_3 = int(input(\"Masukkan sisi 3: \"))\n",
        "\n",
        "  if sisi_1 == sisi_2 == sisi_3 or sisi_2 == sisi_1 == sisi_3 or sisi_3 == sisi_2 == sisi_1:\n",
        "    print(\"3 sisi sama\")\n",
        "  elif sisi_1 == sisi_2 or sisi_1 == sisi_3 or sisi_2 == sisi_3:\n",
        "    print(\"2 sisi sama\")\n",
        "  else:\n",
        "    print(\"Tidak ada yang sama\")\n",
        "except:\n",
        "  print(\"Anda tidak memasukkan angka\")"
      ]
    }
  ]
}